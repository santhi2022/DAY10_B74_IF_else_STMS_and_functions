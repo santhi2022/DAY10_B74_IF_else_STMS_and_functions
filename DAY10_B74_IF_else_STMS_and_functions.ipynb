{
 "cells": [
  {
   "cell_type": "code",
   "execution_count": 2,
   "id": "3123873a",
   "metadata": {},
   "outputs": [
    {
     "name": "stdout",
     "output_type": "stream",
     "text": [
      "0 12 13\n"
     ]
    }
   ],
   "source": [
    "print(0,12,13)"
   ]
  },
  {
   "cell_type": "code",
   "execution_count": 4,
   "id": "497a759a",
   "metadata": {},
   "outputs": [
    {
     "name": "stdout",
     "output_type": "stream",
     "text": [
      "Hellow\n"
     ]
    }
   ],
   "source": [
    "print('Hellow')"
   ]
  },
  {
   "cell_type": "code",
   "execution_count": 5,
   "id": "6152708f",
   "metadata": {},
   "outputs": [
    {
     "name": "stdout",
     "output_type": "stream",
     "text": [
      "5\n"
     ]
    }
   ],
   "source": [
    "x=2\n",
    "y=3\n",
    "z=x+y\n",
    "print(z)"
   ]
  },
  {
   "cell_type": "code",
   "execution_count": 11,
   "id": "46aad49a",
   "metadata": {},
   "outputs": [
    {
     "ename": "SyntaxError",
     "evalue": "invalid syntax (889339230.py, line 1)",
     "output_type": "error",
     "traceback": [
      "\u001b[1;36m  Input \u001b[1;32mIn [11]\u001b[1;36m\u001b[0m\n\u001b[1;33m    18 or >= 18 years of the age\u001b[0m\n\u001b[1;37m          ^\u001b[0m\n\u001b[1;31mSyntaxError\u001b[0m\u001b[1;31m:\u001b[0m invalid syntax\n"
     ]
    }
   ],
   "source": [
    "18 or >= 18 years of the age\n",
    "age=input(\"enter your age\")\n",
    "print(age)"
   ]
  },
  {
   "cell_type": "code",
   "execution_count": 12,
   "id": "f36e3119",
   "metadata": {},
   "outputs": [
    {
     "name": "stdout",
     "output_type": "stream",
     "text": [
      "enter your age16\n",
      "16\n"
     ]
    }
   ],
   "source": [
    "age=input(\"enter your age\")\n",
    "print(age)"
   ]
  },
  {
   "cell_type": "code",
   "execution_count": 13,
   "id": "a763b9ec",
   "metadata": {},
   "outputs": [
    {
     "data": {
      "text/plain": [
       "str"
      ]
     },
     "execution_count": 13,
     "metadata": {},
     "output_type": "execute_result"
    }
   ],
   "source": [
    "type(age)"
   ]
  },
  {
   "cell_type": "code",
   "execution_count": 14,
   "id": "3a86c7f1",
   "metadata": {},
   "outputs": [
    {
     "name": "stdout",
     "output_type": "stream",
     "text": [
      "enter your age22\n",
      "22\n"
     ]
    }
   ],
   "source": [
    "age=input(\"enter your age\")\n",
    "age=int(age)\n",
    "print(age)"
   ]
  },
  {
   "cell_type": "code",
   "execution_count": 15,
   "id": "0a26854f",
   "metadata": {},
   "outputs": [
    {
     "data": {
      "text/plain": [
       "int"
      ]
     },
     "execution_count": 15,
     "metadata": {},
     "output_type": "execute_result"
    }
   ],
   "source": [
    "type(age)"
   ]
  },
  {
   "cell_type": "code",
   "execution_count": 19,
   "id": "62cec367",
   "metadata": {},
   "outputs": [
    {
     "ename": "SyntaxError",
     "evalue": "invalid syntax (3307263125.py, line 3)",
     "output_type": "error",
     "traceback": [
      "\u001b[1;36m  Input \u001b[1;32mIn [19]\u001b[1;36m\u001b[0m\n\u001b[1;33m    else\u001b[0m\n\u001b[1;37m        ^\u001b[0m\n\u001b[1;31mSyntaxError\u001b[0m\u001b[1;31m:\u001b[0m invalid syntax\n"
     ]
    }
   ],
   "source": [
    "if age >=18:\n",
    "    print(\"you r eligible for vote\")\n",
    "else\n",
    "    print(\"try next year\")"
   ]
  },
  {
   "cell_type": "code",
   "execution_count": 18,
   "id": "d7934624",
   "metadata": {},
   "outputs": [
    {
     "ename": "SyntaxError",
     "evalue": "invalid syntax (1208272669.py, line 3)",
     "output_type": "error",
     "traceback": [
      "\u001b[1;36m  Input \u001b[1;32mIn [18]\u001b[1;36m\u001b[0m\n\u001b[1;33m    else\u001b[0m\n\u001b[1;37m        ^\u001b[0m\n\u001b[1;31mSyntaxError\u001b[0m\u001b[1;31m:\u001b[0m invalid syntax\n"
     ]
    }
   ],
   "source": [
    "if age>=18:\n",
    "    print(\"you r eligible for vote\")\n",
    "else\n",
    "    print(\"try next year\")"
   ]
  },
  {
   "cell_type": "code",
   "execution_count": 23,
   "id": "8a5c5d28",
   "metadata": {},
   "outputs": [
    {
     "ename": "SyntaxError",
     "evalue": "invalid syntax (1655522518.py, line 5)",
     "output_type": "error",
     "traceback": [
      "\u001b[1;36m  Input \u001b[1;32mIn [23]\u001b[1;36m\u001b[0m\n\u001b[1;33m    else\u001b[0m\n\u001b[1;37m        ^\u001b[0m\n\u001b[1;31mSyntaxError\u001b[0m\u001b[1;31m:\u001b[0m invalid syntax\n"
     ]
    }
   ],
   "source": [
    "age=input(\"enter your age\")\n",
    "age=int(age)\n",
    "if age>=18:\n",
    "    print(\"you r eligible\")\n",
    "else:\n",
    "    print(\"no\")"
   ]
  },
  {
   "cell_type": "code",
   "execution_count": 24,
   "id": "cdc48c23",
   "metadata": {},
   "outputs": [
    {
     "name": "stdout",
     "output_type": "stream",
     "text": [
      "enter your age13\n",
      "no\n"
     ]
    }
   ],
   "source": [
    "age=input(\"enter your age\")\n",
    "age=int(age)\n",
    "if age>=18:\n",
    "    print(\"you r eligible\")\n",
    "else:\n",
    "    print(\"no\")"
   ]
  },
  {
   "cell_type": "code",
   "execution_count": 25,
   "id": "167f48d0",
   "metadata": {},
   "outputs": [
    {
     "name": "stdout",
     "output_type": "stream",
     "text": [
      "enter your age35\n",
      "you r eligible\n"
     ]
    }
   ],
   "source": [
    "age=input(\"enter your age\")\n",
    "age=int(age)\n",
    "if age>=18:\n",
    "    print(\"you r eligible\")\n",
    "else:\n",
    "    print(\"no\")"
   ]
  },
  {
   "cell_type": "code",
   "execution_count": 29,
   "id": "e8a7bc1c",
   "metadata": {},
   "outputs": [
    {
     "name": "stdout",
     "output_type": "stream",
     "text": [
      "Hellow!\n"
     ]
    }
   ],
   "source": [
    "def greet():\n",
    "    print(\"Hellow!\")\n",
    "greet()"
   ]
  },
  {
   "cell_type": "code",
   "execution_count": 32,
   "id": "02237c76",
   "metadata": {},
   "outputs": [
    {
     "name": "stdout",
     "output_type": "stream",
     "text": [
      "Hellow!\n"
     ]
    }
   ],
   "source": [
    "def greet():\n",
    "    print(\"Hellow!\")\n",
    "greet()"
   ]
  },
  {
   "cell_type": "code",
   "execution_count": 33,
   "id": "247553ba",
   "metadata": {},
   "outputs": [
    {
     "data": {
      "text/plain": [
       "'Understanding the concepts of parameters and arguments'"
      ]
     },
     "execution_count": 33,
     "metadata": {},
     "output_type": "execute_result"
    }
   ],
   "source": [
    "\"\"\"Understanding the concepts of parameters and arguments\"\"\"\n"
   ]
  },
  {
   "cell_type": "code",
   "execution_count": null,
   "id": "e913eda3",
   "metadata": {},
   "outputs": [],
   "source": [
    "# create a function called pet_details"
   ]
  },
  {
   "cell_type": "code",
   "execution_count": null,
   "id": "0496e6d4",
   "metadata": {},
   "outputs": [],
   "source": [
    "# define a parameters as pet_name and animal_type:\n"
   ]
  },
  {
   "cell_type": "code",
   "execution_count": 35,
   "id": "5170d786",
   "metadata": {},
   "outputs": [
    {
     "name": "stdout",
     "output_type": "stream",
     "text": [
      " my animal name is vikky\n",
      " my pet is dog\n"
     ]
    }
   ],
   "source": [
    "def pet_details(pet_name,animal_type):\n",
    "    print(f\" my animal name is {pet_name}\")\n",
    "    print(f\" my pet is {animal_type}\")\n",
    "pet_details('vikky','dog')  "
   ]
  },
  {
   "cell_type": "code",
   "execution_count": 36,
   "id": "72a67aa7",
   "metadata": {},
   "outputs": [
    {
     "name": "stdout",
     "output_type": "stream",
     "text": [
      " my animal name is sony\n",
      " my pet is cat\n"
     ]
    }
   ],
   "source": [
    "pet_details('sony','cat') "
   ]
  },
  {
   "cell_type": "code",
   "execution_count": 37,
   "id": "1a8925dc",
   "metadata": {},
   "outputs": [
    {
     "ename": "TypeError",
     "evalue": "pet_details() missing 1 required positional argument: 'animal_type'",
     "output_type": "error",
     "traceback": [
      "\u001b[1;31m---------------------------------------------------------------------------\u001b[0m",
      "\u001b[1;31mTypeError\u001b[0m                                 Traceback (most recent call last)",
      "Input \u001b[1;32mIn [37]\u001b[0m, in \u001b[0;36m<cell line: 1>\u001b[1;34m()\u001b[0m\n\u001b[1;32m----> 1\u001b[0m \u001b[43mpet_details\u001b[49m\u001b[43m(\u001b[49m\u001b[38;5;124;43m'\u001b[39;49m\u001b[38;5;124;43msony\u001b[39;49m\u001b[38;5;124;43m'\u001b[39;49m\u001b[43m)\u001b[49m\n",
      "\u001b[1;31mTypeError\u001b[0m: pet_details() missing 1 required positional argument: 'animal_type'"
     ]
    }
   ],
   "source": [
    "pet_details('sony')"
   ]
  },
  {
   "cell_type": "code",
   "execution_count": 38,
   "id": "19a60074",
   "metadata": {},
   "outputs": [
    {
     "name": "stdout",
     "output_type": "stream",
     "text": [
      " my animal name is dog\n",
      " my pet is smiley\n"
     ]
    }
   ],
   "source": [
    "pet_details('dog','smiley')  "
   ]
  },
  {
   "cell_type": "code",
   "execution_count": 39,
   "id": "edb5adeb",
   "metadata": {},
   "outputs": [
    {
     "name": "stdout",
     "output_type": "stream",
     "text": [
      " my animal name is sony\n",
      " my pet is cat\n"
     ]
    }
   ],
   "source": [
    "pet_details('sony','cat') "
   ]
  },
  {
   "cell_type": "code",
   "execution_count": 40,
   "id": "8e3fcc90",
   "metadata": {},
   "outputs": [
    {
     "name": "stdout",
     "output_type": "stream",
     "text": [
      " my animal name is dog\n",
      " my pet is rabbit\n"
     ]
    }
   ],
   "source": [
    "pet_details(animal_type='rabbit',pet_name='dog')"
   ]
  },
  {
   "cell_type": "code",
   "execution_count": null,
   "id": "bd9981d1",
   "metadata": {},
   "outputs": [],
   "source": []
  }
 ],
 "metadata": {
  "kernelspec": {
   "display_name": "Python 3 (ipykernel)",
   "language": "python",
   "name": "python3"
  },
  "language_info": {
   "codemirror_mode": {
    "name": "ipython",
    "version": 3
   },
   "file_extension": ".py",
   "mimetype": "text/x-python",
   "name": "python",
   "nbconvert_exporter": "python",
   "pygments_lexer": "ipython3",
   "version": "3.9.12"
  }
 },
 "nbformat": 4,
 "nbformat_minor": 5
}
